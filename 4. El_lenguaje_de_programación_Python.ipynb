{
  "nbformat": 4,
  "nbformat_minor": 0,
  "metadata": {
    "colab": {
      "provenance": [],
      "authorship_tag": "ABX9TyNZ3f0kutkBgZV8YcYVZD9g",
      "include_colab_link": true
    },
    "kernelspec": {
      "name": "python3",
      "display_name": "Python 3"
    },
    "language_info": {
      "name": "python"
    }
  },
  "cells": [
    {
      "cell_type": "markdown",
      "metadata": {
        "id": "view-in-github",
        "colab_type": "text"
      },
      "source": [
        "<a href=\"https://colab.research.google.com/github/SebastianOrtiz-1/programming-class/blob/main/El_lenguaje_de_programaci%C3%B3n_Python.ipynb\" target=\"_parent\"><img src=\"https://colab.research.google.com/assets/colab-badge.svg\" alt=\"Open In Colab\"/></a>"
      ]
    },
    {
      "cell_type": "markdown",
      "source": [
        "###El lenguaje de programación Python\n",
        "\n"
      ],
      "metadata": {
        "id": "sJQJq-dy79yk"
      }
    },
    {
      "cell_type": "markdown",
      "source": [
        "Python es un ejemplo de **lenguaje de alto** nivel ; Otros lenguajes de alto nivel de los que quizás haya oído hablar son C++, PHP y Java.\n",
        "\n",
        "Como se puede deducir del nombre **lenguaje de alto nivel**, también existen **lenguajes de bajo nivel** , a veces denominados lenguajes de máquina o lenguajes ensambladores. En términos generales, las computadoras sólo pueden ejecutar programas escritos en lenguajes de bajo nivel. Por tanto, los programas escritos en un lenguaje de alto nivel deben procesarse antes de poder ejecutarse. Este procesamiento adicional lleva algo de tiempo, lo cual es una pequeña desventaja de los lenguajes de alto nivel. Sin embargo, las ventajas para los lenguajes de alto nivel son enormes."
      ],
      "metadata": {
        "id": "Sw50eQfs8Cyy"
      }
    },
    {
      "cell_type": "markdown",
      "source": [
        "```\n",
        "Primero, es mucho más fácil programar en un lenguaje de alto nivel. Los\n",
        "programas escritos en un lenguaje de alto nivel requieren menos tiempo para\n",
        "escribirse, son más cortos y fáciles de leer y es más probable que sean\n",
        "correctos. En segundo lugar, los lenguajes de alto nivel son portátiles , lo\n",
        "que significa que pueden ejecutarse en diferentes tipos de computadoras con\n",
        "pocas o ninguna modificación. Los programas de bajo nivel sólo pueden\n",
        "ejecutarse en un tipo de computadora y deben reescribirse para ejecutarse en\n",
        "otro.\n",
        "```"
      ],
      "metadata": {
        "id": "IE2MT4gl8mnZ"
      }
    },
    {
      "cell_type": "markdown",
      "source": [
        "Dos tipos de programas procesan lenguajes de alto nivel en lenguajes de bajo nivel: intérpretes y compiladores.\n",
        "\n",
        "Un **intérprete** lee un programa de alto nivel y lo ejecuta, lo que significa que hace lo que dice el programa. Procesa el programa poco a poco, leyendo líneas y realizando cálculos alternativamente."
      ],
      "metadata": {
        "id": "xZjB3kFe9BkM"
      }
    },
    {
      "cell_type": "markdown",
      "source": [
        "Un **compilador** lee el programa y lo traduce completamente antes de que comience a ejecutarse. En este caso, el programa de alto nivel se denomina código fuente y el programa traducido se denomina código objeto o ejecutable . Una vez compilado un programa, puede ejecutarlo repetidamente sin necesidad de realizar más traducciones."
      ],
      "metadata": {
        "id": "sEfAZp8S9Ms7"
      }
    },
    {
      "cell_type": "markdown",
      "source": [
        "```\n",
        "El código fuente es otro nombre para:\n",
        "\n",
        "A. las instrucciones de un programa, escritas en un lenguaje de alto nivel.\n",
        "B. el lenguaje en el que está programando (por ejemplo, Python).\n",
        "C. el entorno/herramienta en el que está programando.\n",
        "\n",
        "\n",
        "¿Cuál es la diferencia entre un lenguaje de programación de alto nivel y un lenguaje de programación de bajo nivel?\n",
        "\n",
        "A. Es de nivel alto si estás de pie y de nivel bajo si estás sentado.\n",
        "B. Es de alto nivel si estás programando para una computadora y de bajo nivel si estás programando para un teléfono o dispositivo móvil.\n",
        "C. Es de alto nivel si el programa debe procesarse antes de que pueda ejecutarse, y de bajo nivel si la computadora puede ejecutarlo\n",
        " sin procesamiento adicional.\n",
        "D. Es de alto nivel si es fácil de programar y es muy corto; es de bajo nivel si es realmente difícil programar\n",
        "y los programas son muy largos.\n",
        "\n",
        "\n",
        "Elija los mejores reemplazos para 1 y 2 en la siguiente oración: Al comparar compiladores e intérpretes, un compilador es como 1 mientras que un\n",
        "intérprete es como 2.\n",
        "\n",
        "A. 1 = un proceso, 2 = una función\n",
        "B. 1 = traducir un libro completo, 2 = traducir una línea a la vez\n",
        "C. 1 = software, 2 = hardware\n",
        "D. 1 = código objeto, 2 = código de bytes\n",
        "\n",
        "```\n"
      ],
      "metadata": {
        "id": "xZtasKOU9paq"
      }
    }
  ]
}
