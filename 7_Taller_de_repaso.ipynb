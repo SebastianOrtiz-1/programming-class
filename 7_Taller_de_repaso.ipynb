{
  "nbformat": 4,
  "nbformat_minor": 0,
  "metadata": {
    "colab": {
      "provenance": [],
      "authorship_tag": "ABX9TyMhR7Pa1Vb8Kw14lDVfBs9Z",
      "include_colab_link": true
    },
    "kernelspec": {
      "name": "python3",
      "display_name": "Python 3"
    },
    "language_info": {
      "name": "python"
    }
  },
  "cells": [
    {
      "cell_type": "markdown",
      "metadata": {
        "id": "view-in-github",
        "colab_type": "text"
      },
      "source": [
        "<a href=\"https://colab.research.google.com/github/SebastianOrtiz-1/programming-class/blob/main/7_Taller_de_repaso.ipynb\" target=\"_parent\"><img src=\"https://colab.research.google.com/assets/colab-badge.svg\" alt=\"Open In Colab\"/></a>"
      ]
    },
    {
      "cell_type": "markdown",
      "source": [
        "### Introducción a Python\n",
        "\n",
        "Python es un lenguaje de programación de alto nivel, interpretado y de propósito general. Es conocido por su legibilidad y simplicidad, lo que lo hace ideal para principiantes en programación. En Python, puedes realizar cálculos matemáticos, manipular datos y realizar muchas otras tareas de programación con una sintaxis clara y concisa."
      ],
      "metadata": {
        "id": "-e_wNACBmACF"
      }
    },
    {
      "cell_type": "markdown",
      "source": [
        "## Variables en Python\n",
        "\n",
        "Una variable es un nombre que se refiere a un valor. La declaración de una variable en Python es simple; no necesitas especificar un tipo de dato, simplemente asignas un valor a un nombre:"
      ],
      "metadata": {
        "id": "OQbVGEJpmaB9"
      }
    },
    {
      "cell_type": "code",
      "source": [
        "x = 5\n",
        "mensaje = \"Hola, mundo\""
      ],
      "metadata": {
        "id": "sWEQ_CBNl_xP"
      },
      "execution_count": null,
      "outputs": []
    },
    {
      "cell_type": "markdown",
      "source": [
        "## Funciones en Python\n",
        "\n",
        "Una función es un bloque de código que solo se ejecuta cuando se llama. Las funciones pueden tomar datos, conocidos como parámetros, y pueden devolver datos como resultado.\n",
        "\n",
        "Sintaxis básica para declarar una función:"
      ],
      "metadata": {
        "id": "XP_Ku1AwmnO_"
      }
    },
    {
      "cell_type": "code",
      "execution_count": null,
      "metadata": {
        "id": "BdOfnu81l0QU"
      },
      "outputs": [],
      "source": [
        "def nombre_de_la_funcion(parametros):\n",
        "    # Bloque de código\n",
        "    return resultado"
      ]
    },
    {
      "cell_type": "markdown",
      "source": [
        "## Ejemplos\n",
        "\n",
        "Ejemplo 1: Función para sumar dos números"
      ],
      "metadata": {
        "id": "M9Y_MYcImxOG"
      }
    },
    {
      "cell_type": "code",
      "source": [
        "def sumar(a, b):\n",
        "    return a + b"
      ],
      "metadata": {
        "id": "PsNzxU1cnaGw"
      },
      "execution_count": null,
      "outputs": []
    },
    {
      "cell_type": "markdown",
      "source": [
        "Ejemplo 2: Función para imprimir un mensaje\n",
        "\n"
      ],
      "metadata": {
        "id": "dF2g24l-mxFE"
      }
    },
    {
      "cell_type": "code",
      "source": [
        "def imprimir_mensaje(mensaje):\n",
        "    print(mensaje)"
      ],
      "metadata": {
        "id": "wNr-yoQfmwwO"
      },
      "execution_count": null,
      "outputs": []
    },
    {
      "cell_type": "markdown",
      "source": [
        "### Ejercicios\n"
      ],
      "metadata": {
        "id": "MXbTWkAdoOEC"
      }
    },
    {
      "cell_type": "markdown",
      "source": [
        "Ejercicio 1: Crear una función que multiplique dos números"
      ],
      "metadata": {
        "id": "V_WKPoa6oUlu"
      }
    },
    {
      "cell_type": "code",
      "source": [
        "def multiplicar(a, b):\n",
        "    # Tu código aquí\n",
        "\n",
        "    return                                  # Resultado de la multiplicación"
      ],
      "metadata": {
        "id": "v_JCFIBgoTjh"
      },
      "execution_count": null,
      "outputs": []
    },
    {
      "cell_type": "markdown",
      "source": [
        "Ejercicio 2: Función para calcular el área de un círculo dado su radio\n",
        "\n",
        "La fórmula para el área de un círculo es\n",
        "$A=π*r^2$"
      ],
      "metadata": {
        "id": "mGDoSpAkoa3G"
      }
    },
    {
      "cell_type": "code",
      "source": [
        "def area_circulo(radio):\n",
        "    pi = 3.14159\n",
        "    # Tu código aquí\n",
        "\n",
        "    return                  # Área del círculo"
      ],
      "metadata": {
        "id": "aThiy8Vzovud"
      },
      "execution_count": null,
      "outputs": []
    },
    {
      "cell_type": "markdown",
      "source": [
        "Ejercicio 3: Corregir el siguiente código"
      ],
      "metadata": {
        "id": "Ii8z4oz4owLZ"
      }
    },
    {
      "cell_type": "code",
      "source": [
        "def calcula_promedio(num1, num , num3):\n",
        "    promedio = (num1 + num2 + nume3) / 3\n",
        "    return promedi"
      ],
      "metadata": {
        "id": "Lj7nisBDovif"
      },
      "execution_count": null,
      "outputs": []
    },
    {
      "cell_type": "markdown",
      "source": [
        "Ejercicio 4: Completar el código faltante"
      ],
      "metadata": {
        "id": "E7z8oHWvpBcQ"
      }
    },
    {
      "cell_type": "code",
      "source": [
        "def convertir_celsius_a_fahrenheit(temperatura_celsius):\n",
        "    # Fórmula: (C * 9/5) + 32\n",
        "    temperatura_fahrenheit =                                    # Tu código aquí\n",
        "    return temperatura_fahrenheit"
      ],
      "metadata": {
        "id": "ybY6w8P9pBJP"
      },
      "execution_count": null,
      "outputs": []
    }
  ]
}