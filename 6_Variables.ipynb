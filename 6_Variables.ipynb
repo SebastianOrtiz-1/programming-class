{
  "nbformat": 4,
  "nbformat_minor": 0,
  "metadata": {
    "colab": {
      "provenance": [],
      "authorship_tag": "ABX9TyMoWQURF8tZGAmq9JqOz02y",
      "include_colab_link": true
    },
    "kernelspec": {
      "name": "python3",
      "display_name": "Python 3"
    },
    "language_info": {
      "name": "python"
    }
  },
  "cells": [
    {
      "cell_type": "markdown",
      "metadata": {
        "id": "view-in-github",
        "colab_type": "text"
      },
      "source": [
        "<a href=\"https://colab.research.google.com/github/SebastianOrtiz-1/programming-class/blob/main/6_Variables.ipynb\" target=\"_parent\"><img src=\"https://colab.research.google.com/assets/colab-badge.svg\" alt=\"Open In Colab\"/></a>"
      ]
    },
    {
      "cell_type": "markdown",
      "source": [
        "###Variables\n",
        "\n",
        "Una de las características más poderosas de un lenguaje de programación es la capacidad de manipular variables . Una variable es un nombre que hace referencia a un valor.\n",
        "\n",
        "Las declaraciones de asignación crean nuevas variables y también les dan valores a los que hacer referencia."
      ],
      "metadata": {
        "id": "IF8nHN-ZDiFI"
      }
    },
    {
      "cell_type": "code",
      "execution_count": null,
      "metadata": {
        "id": "oXkMjAeEDS4s"
      },
      "outputs": [],
      "source": [
        "message = \"What's up, Doc?\"\n",
        "n = 17\n",
        "pi = 3.14159"
      ]
    },
    {
      "cell_type": "code",
      "source": [
        "print(message)\n",
        "print(n)\n",
        "print(pi)"
      ],
      "metadata": {
        "id": "ZymrRXUHD8AP"
      },
      "execution_count": null,
      "outputs": []
    },
    {
      "cell_type": "markdown",
      "source": [
        "Usamos variables en un programa para \"recordar\" cosas, como el resultado actual del partido de fútbol. Pero las variables son variables . Esto significa que pueden cambiar con el tiempo, como el marcador de un partido de fútbol. Puede asignar un valor a una variable y luego asignar un valor diferente a la misma variable."
      ],
      "metadata": {
        "id": "PnJ5gHy0EFqU"
      }
    },
    {
      "cell_type": "code",
      "source": [
        "day = \"Thursday\"\n",
        "print(day)\n",
        "day = \"Friday\"\n",
        "print(day)\n",
        "day = 21\n",
        "print(day)"
      ],
      "metadata": {
        "id": "kGsG1pIiEPLU"
      },
      "execution_count": null,
      "outputs": []
    },
    {
      "cell_type": "markdown",
      "source": [
        "En cualquier lugar de un programa Python donde se espere un número o una cadena, puede colocar un nombre de variable en su lugar. El intérprete de Python sustituirá el valor del nombre de la variable.\n",
        "\n",
        "Por ejemplo, podemos averiguar el tipo de datos del valor actual de una variable colocando el nombre de la variable dentro del paréntesis después del nombre de la función type."
      ],
      "metadata": {
        "id": "lnp1OOANEzwg"
      }
    },
    {
      "cell_type": "code",
      "source": [
        "print(type(message))\n",
        "print(type(n))\n",
        "print(type(pi))"
      ],
      "metadata": {
        "id": "d_VG4A9REq00"
      },
      "execution_count": null,
      "outputs": []
    },
    {
      "cell_type": "markdown",
      "source": [
        "## Autoevaluacion\n",
        "\n",
        "\n",
        "¿Qué se imprime cuando se ejecutan las siguientes declaraciones?\n",
        "```\n",
        "day = \"Thursday\"\n",
        "day = 32.5\n",
        "day = 19\n",
        "print(day)\n",
        "```\n",
        "A. No se imprime nada. Se produce un error de tiempo de ejecución.\n",
        "\n",
        "B. jueves\n",
        "\n",
        "C.32.5\n",
        "\n",
        "D.19"
      ],
      "metadata": {
        "id": "L4kSqQw_E_Di"
      }
    },
    {
      "cell_type": "markdown",
      "source": [
        "## Reasignar variables"
      ],
      "metadata": {
        "id": "vhrm6VeRHp4C"
      }
    },
    {
      "cell_type": "markdown",
      "source": [
        "Una de las formas más comunes de reasignación es una actualización donde el nuevo valor de la variable depende del anterior. Por ejemplo,"
      ],
      "metadata": {
        "id": "-hvzOuXSHtf9"
      }
    },
    {
      "cell_type": "code",
      "source": [
        "x = 6\n",
        "x = x + 1"
      ],
      "metadata": {
        "id": "S9WY5pzoHs5x"
      },
      "execution_count": null,
      "outputs": []
    },
    {
      "cell_type": "code",
      "source": [
        "x = 6        # initialize x\n",
        "print(x)\n",
        "x = x + 1    # update x\n",
        "print(x)\n"
      ],
      "metadata": {
        "id": "pfKcvqtLH7QN"
      },
      "execution_count": null,
      "outputs": []
    },
    {
      "cell_type": "markdown",
      "source": [
        "Incrementar y disminuir son operaciones tan comunes que los lenguajes de programación a menudo incluyen una sintaxis especial para ello. En Python += se usa para incrementar y -= disminuir. En algunos otros lenguajes, incluso existe una sintaxis especial ++ para incrementar o -- disminuir en 1. Python no tiene una sintaxis tan especial. Para incrementar x en 1 tienes que escribir **x+= 1** o **x = x + 1**"
      ],
      "metadata": {
        "id": "e9UIY6mcII7e"
      }
    },
    {
      "cell_type": "code",
      "source": [
        "x = 6        # initialize x\n",
        "print(x)\n",
        "x += 3       # increment x by 3; same as x = x + 3\n",
        "print(x)\n",
        "x -= 1       # decrement x by 1\n",
        "print(x)"
      ],
      "metadata": {
        "colab": {
          "base_uri": "https://localhost:8080/"
        },
        "id": "XgnnNRXVIIg6",
        "outputId": "a8cec490-c6ba-4449-e7d1-7a12726b2f5e"
      },
      "execution_count": 2,
      "outputs": [
        {
          "output_type": "stream",
          "name": "stdout",
          "text": [
            "6\n",
            "9\n",
            "8\n"
          ]
        }
      ]
    },
    {
      "cell_type": "markdown",
      "source": [
        "¿Qué se imprime cuando se ejecutan las siguientes declaraciones?\n",
        "\n",
        "```\n",
        "x = 12\n",
        "x = x - 1\n",
        "print(x)\n",
        "```\n",
        "\n",
        "A.12\n",
        "\n",
        "B.-1\n",
        "\n",
        "C.11\n",
        "\n",
        "D. Nada. Se produce un error porque x nunca puede ser igual a x - 1."
      ],
      "metadata": {
        "id": "pLYB3471Ijyf"
      }
    },
    {
      "cell_type": "markdown",
      "source": [
        "¿Qué se imprime cuando se ejecutan las siguientes declaraciones?\n",
        "\n",
        "```\n",
        "x = 12\n",
        "x = x - 3\n",
        "x = x + 5\n",
        "x = x + 1\n",
        "print(x)\n",
        "```\n",
        "\n",
        "A.12\n",
        "\n",
        "B.9\n",
        "\n",
        "C.15\n",
        "\n",
        "D. Nada. Se produce un error porque x no se puede utilizar tantas veces en declaraciones de asignación."
      ],
      "metadata": {
        "id": "UIB_i2ccI5QI"
      }
    },
    {
      "cell_type": "markdown",
      "source": [
        "¿Cuáles de las siguientes afirmaciones son equivalentes?\n",
        "\n",
        "A. x = x + y\n",
        "\n",
        "B. y += x\n",
        "\n",
        "C. x += x + y\n",
        "\n",
        "D. x += y\n",
        "\n",
        "E. x++ y"
      ],
      "metadata": {
        "id": "kup3ilLwJHdB"
      }
    }
  ]
}