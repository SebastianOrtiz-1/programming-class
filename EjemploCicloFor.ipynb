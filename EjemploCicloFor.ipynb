{
  "nbformat": 4,
  "nbformat_minor": 0,
  "metadata": {
    "colab": {
      "provenance": [],
      "authorship_tag": "ABX9TyNG87C5TvCBdIbnly/dmRFO",
      "include_colab_link": true
    },
    "kernelspec": {
      "name": "python3",
      "display_name": "Python 3"
    },
    "language_info": {
      "name": "python"
    }
  },
  "cells": [
    {
      "cell_type": "markdown",
      "metadata": {
        "id": "view-in-github",
        "colab_type": "text"
      },
      "source": [
        "<a href=\"https://colab.research.google.com/github/SebastianOrtiz-1/programming-class/blob/main/EjemploCicloFor.ipynb\" target=\"_parent\"><img src=\"https://colab.research.google.com/assets/colab-badge.svg\" alt=\"Open In Colab\"/></a>"
      ]
    },
    {
      "cell_type": "code",
      "source": [
        "for numero in range(5):\n",
        "    print(numero)\n"
      ],
      "metadata": {
        "id": "uU3avrOd6wx1"
      },
      "execution_count": null,
      "outputs": []
    },
    {
      "cell_type": "code",
      "execution_count": null,
      "metadata": {
        "id": "ONr284zn5xCy"
      },
      "outputs": [],
      "source": [
        "nombres = [\"Ana\", \"Beto\", \"Carlos\", \"Diana\"]\n",
        "\n",
        "for nombre in nombres:\n",
        "    print(nombre)\n"
      ]
    },
    {
      "cell_type": "code",
      "source": [
        "palabra = \"Hola\"\n",
        "\n",
        "for letra in palabra:\n",
        "    print(letra)\n"
      ],
      "metadata": {
        "id": "7TLAarD962Xe"
      },
      "execution_count": null,
      "outputs": []
    },
    {
      "cell_type": "code",
      "source": [
        "listas = [[1, 2, 3], [4, 5, 6], [7, 8, 9]]\n",
        "\n",
        "for lista in listas:\n",
        "    for elemento in lista:\n",
        "        print(elemento)\n"
      ],
      "metadata": {
        "id": "-VJicAwi692b"
      },
      "execution_count": null,
      "outputs": []
    },
    {
      "cell_type": "markdown",
      "source": [
        "Tienes una lista de números y necesitas encontrar la suma total de todos los números en la lista."
      ],
      "metadata": {
        "id": "C8P8NPN87coq"
      }
    },
    {
      "cell_type": "code",
      "source": [
        "numeros = [1, 2, 3, 4, 5]\n",
        "suma_total = 0\n",
        "\n",
        "for numero in numeros:\n",
        "    suma_total += numero\n",
        "\n",
        "print(f\"La suma total es: {suma_total}\")\n",
        "\n",
        "print(sum(numeros))"
      ],
      "metadata": {
        "id": "uU4Nstnx7bq1"
      },
      "execution_count": null,
      "outputs": []
    },
    {
      "cell_type": "markdown",
      "source": [
        "Dada una lista de números enteros, encuentra el valor máximo."
      ],
      "metadata": {
        "id": "MBSSzDKq7qbr"
      }
    },
    {
      "cell_type": "code",
      "source": [
        "numeros = [4, 1, 17, 43, 28]\n",
        "maximo = numeros[0]\n",
        "\n",
        "for numero in numeros:\n",
        "    if numero > maximo:\n",
        "        maximo = numero\n",
        "\n",
        "print(f\"El número máximo es: {maximo}\")"
      ],
      "metadata": {
        "id": "PHsASNZa7vtO"
      },
      "execution_count": null,
      "outputs": []
    },
    {
      "cell_type": "markdown",
      "source": [
        " Necesitas generar la tabla de multiplicar (del 1 al 10) de un número dado por el usuario y almacenar cada resultado en una lista."
      ],
      "metadata": {
        "id": "Z1NF_3WM79ko"
      }
    },
    {
      "cell_type": "code",
      "source": [
        "numero = 5  # Este número puede ser ingresado por el usuario\n",
        "tabla = []\n",
        "\n",
        "for i in range(1, 11):\n",
        "    resultado = numero * i\n",
        "    tabla.append(resultado)\n",
        "\n",
        "print(f\"Tabla del {numero}: {tabla}\")"
      ],
      "metadata": {
        "id": "XmezkPNB7tjd"
      },
      "execution_count": null,
      "outputs": []
    },
    {
      "cell_type": "code",
      "source": [],
      "metadata": {
        "id": "gKLzvEEf8SiO"
      },
      "execution_count": null,
      "outputs": []
    }
  ]
}