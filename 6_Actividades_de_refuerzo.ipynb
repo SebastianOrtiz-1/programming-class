{
  "nbformat": 4,
  "nbformat_minor": 0,
  "metadata": {
    "colab": {
      "provenance": [],
      "authorship_tag": "ABX9TyPQLfvAn9cfYnqYJsvVU9/4",
      "include_colab_link": true
    },
    "kernelspec": {
      "name": "python3",
      "display_name": "Python 3"
    },
    "language_info": {
      "name": "python"
    }
  },
  "cells": [
    {
      "cell_type": "markdown",
      "metadata": {
        "id": "view-in-github",
        "colab_type": "text"
      },
      "source": [
        "<a href=\"https://colab.research.google.com/github/SebastianOrtiz-1/programming-class/blob/main/6_Actividades_de_refuerzo.ipynb\" target=\"_parent\"><img src=\"https://colab.research.google.com/assets/colab-badge.svg\" alt=\"Open In Colab\"/></a>"
      ]
    },
    {
      "cell_type": "markdown",
      "source": [
        "##Ejercicio 1: Función básica:\n",
        "\n",
        "Descripción: Crea una función que reciba un nombre como argumento y devuelva un saludo. Por ejemplo, si el nombre es \"Ana\", la función debe devolver \"Hola, Ana\"."
      ],
      "metadata": {
        "id": "4pMMwxuWT4fD"
      }
    },
    {
      "cell_type": "code",
      "execution_count": null,
      "metadata": {
        "id": "kXKSyQqAT0fQ"
      },
      "outputs": [],
      "source": []
    },
    {
      "cell_type": "markdown",
      "source": [
        "## Ejercicio 2: Conversión de Temperaturas\n",
        "\n",
        "Descripción: Crea una función que convierta temperaturas de Celsius a Fahrenheit y otra que haga la conversión inversa. Recuerda que la fórmula para convertir Celsius a Fahrenheit es\n",
        "\n",
        "$F = C * 9/5 + 32$\n"
      ],
      "metadata": {
        "id": "QNjbrtVAUJoI"
      }
    },
    {
      "cell_type": "code",
      "source": [],
      "metadata": {
        "id": "35-jgqPHW1q3"
      },
      "execution_count": null,
      "outputs": []
    },
    {
      "cell_type": "markdown",
      "source": [
        "## Ejercicio 3: Calculadora\n",
        "\n",
        "Diseñe tres funciones diferentes, cada una realiza una operacion aritmetica: suma, multiplicacion, division de dos numeros"
      ],
      "metadata": {
        "id": "WHMJ8KDEWd_k"
      }
    },
    {
      "cell_type": "code",
      "source": [],
      "metadata": {
        "id": "kykZZzkhW2k3"
      },
      "execution_count": null,
      "outputs": []
    }
  ]
}