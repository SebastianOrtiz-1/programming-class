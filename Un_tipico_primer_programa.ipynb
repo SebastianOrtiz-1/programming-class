{
  "nbformat": 4,
  "nbformat_minor": 0,
  "metadata": {
    "colab": {
      "provenance": [],
      "authorship_tag": "ABX9TyP3cAKoJoQBAiOkq/MoHSYI",
      "include_colab_link": true
    },
    "kernelspec": {
      "name": "python3",
      "display_name": "Python 3"
    },
    "language_info": {
      "name": "python"
    }
  },
  "cells": [
    {
      "cell_type": "markdown",
      "metadata": {
        "id": "view-in-github",
        "colab_type": "text"
      },
      "source": [
        "<a href=\"https://colab.research.google.com/github/SebastianOrtiz-1/programming-class/blob/main/Un_tipico_primer_programa.ipynb\" target=\"_parent\"><img src=\"https://colab.research.google.com/assets/colab-badge.svg\" alt=\"Open In Colab\"/></a>"
      ]
    },
    {
      "cell_type": "markdown",
      "source": [
        "###Un tipico primer programa"
      ],
      "metadata": {
        "id": "UCjiSHxRBszj"
      }
    },
    {
      "cell_type": "code",
      "execution_count": null,
      "metadata": {
        "id": "mAKhOmurBjFP"
      },
      "outputs": [],
      "source": [
        "print(\"Hello, World!\")"
      ]
    },
    {
      "cell_type": "markdown",
      "source": [
        "Los invito a cambiar valores y a experimentar, de esa manera comprenderan mejor el comportamiento de cada funcion"
      ],
      "metadata": {
        "id": "-ykpBuEkCJvn"
      }
    },
    {
      "cell_type": "markdown",
      "source": [
        "### Comentarios"
      ],
      "metadata": {
        "id": "28U9qmdXCYIP"
      }
    },
    {
      "cell_type": "code",
      "source": [
        "#--------------------------------------\n",
        "# Esto es un comentario\n",
        "# Son utiles para explicar nuestro codigo\n",
        "# Pero en especial para documentarlo.\n",
        "#----------------------------------------"
      ],
      "metadata": {
        "id": "qEk5xv1sCali"
      },
      "execution_count": null,
      "outputs": []
    }
  ]
}