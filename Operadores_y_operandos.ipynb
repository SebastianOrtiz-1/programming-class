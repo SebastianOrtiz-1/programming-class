{
  "nbformat": 4,
  "nbformat_minor": 0,
  "metadata": {
    "colab": {
      "provenance": [],
      "authorship_tag": "ABX9TyMOBRMnfNkNFq+4VRCG9vMz",
      "include_colab_link": true
    },
    "kernelspec": {
      "name": "python3",
      "display_name": "Python 3"
    },
    "language_info": {
      "name": "python"
    }
  },
  "cells": [
    {
      "cell_type": "markdown",
      "metadata": {
        "id": "view-in-github",
        "colab_type": "text"
      },
      "source": [
        "<a href=\"https://colab.research.google.com/github/SebastianOrtiz-1/programming-class/blob/main/Operadores_y_operandos.ipynb\" target=\"_parent\"><img src=\"https://colab.research.google.com/assets/colab-badge.svg\" alt=\"Open In Colab\"/></a>"
      ]
    },
    {
      "cell_type": "markdown",
      "source": [
        "###Operadores y operandos"
      ],
      "metadata": {
        "id": "dnrE8i3zHy9z"
      }
    },
    {
      "cell_type": "markdown",
      "source": [
        "Puedes crear expresiones complejas a partir de otras más simples utilizando operadores. Los operadores son tokens especiales que representan cálculos como suma, multiplicación y división. Los valores con los que trabaja el operador se denominan operandos.\n",
        "\n",
        "Las siguientes son todas expresiones legales de Python cuyo significado es más o menos claro:"
      ],
      "metadata": {
        "id": "uJorNiNIH4-w"
      }
    },
    {
      "cell_type": "code",
      "source": [
        "20 + 32\n",
        "5 ** 2\n",
        "(5 + 9) * (15 - 7)\n",
        "print(7 + 5)"
      ],
      "metadata": {
        "id": "fLKTlJ4FKISn"
      },
      "execution_count": null,
      "outputs": []
    },
    {
      "cell_type": "markdown",
      "source": [
        "En **Python** 3, el operador de división / produce un resultado de punto flotante (incluso si el resultado es un número entero; 4/2 es 2.0). Si desea una división truncada, que ignora el resto, puede utilizar el //operador (por ejemplo, 5//2es 2)."
      ],
      "metadata": {
        "id": "mdfP6M7hKS_K"
      }
    },
    {
      "cell_type": "code",
      "source": [
        "print(9 / 5)\n",
        "print(5 / 9)\n",
        "print(9 // 5)"
      ],
      "metadata": {
        "id": "9lNNyayMOPZy"
      },
      "execution_count": null,
      "outputs": []
    },
    {
      "cell_type": "markdown",
      "source": [
        "El operador de división truncada, //también funciona con números de coma flotante. Se trunca al número entero más cercano, pero aún produce un resultado de punto flotante. Así es .7.0 // 3.02.0"
      ],
      "metadata": {
        "id": "Irba-OHxORHj"
      }
    },
    {
      "cell_type": "code",
      "source": [
        "print(7.0 / 3.0)\n",
        "print(7.0 // 3.0)"
      ],
      "metadata": {
        "id": "zqouRHVqOv-V"
      },
      "execution_count": null,
      "outputs": []
    },
    {
      "cell_type": "markdown",
      "source": [
        "El **operador de módulo** , a veces también llamado operador de resto o operador de resto de entero , funciona con números enteros (y expresiones enteras) y produce el resto cuando el primer operando se divide por el segundo. En Python, el operador de módulo es un signo de porcentaje ( %). La sintaxis es la misma que para otros operadores."
      ],
      "metadata": {
        "id": "6bwbpSdOPKxf"
      }
    },
    {
      "cell_type": "code",
      "source": [
        "print(7 // 3)\n",
        "print(7 % 3)"
      ],
      "metadata": {
        "id": "COZkpBHbQ0SE"
      },
      "execution_count": null,
      "outputs": []
    },
    {
      "cell_type": "markdown",
      "source": [
        "El operador de módulo resulta sorprendentemente útil. Por ejemplo, puedes comprobar si un número es divisible por otro; si x % y es cero, entonces x es divisible por y. Además, puede extraer el dígito o dígitos situados más a la derecha de un número. Por ejemplo, x % 10 produce el dígito más a la derecha de x (en base 10). De manera similar x % 100 produce los dos últimos dígitos."
      ],
      "metadata": {
        "id": "S6nfL-xSRMzN"
      }
    },
    {
      "cell_type": "code",
      "source": [
        "# Intenta encontrar los ultimos digitos de 234521544"
      ],
      "metadata": {
        "id": "YRVZHanPRMe6"
      },
      "execution_count": null,
      "outputs": []
    },
    {
      "cell_type": "markdown",
      "source": [
        "### Evalua tu conocimiento\n",
        "\n",
        "Cual seria el resultado del siguiente enunciado?\n",
        "\n",
        "```\n",
        "print(18 / 4)\n",
        "```\n",
        "\n",
        "A. 4.5\n",
        "\n",
        "B. 5\n",
        "\n",
        "C. 4\n",
        "\n",
        "D. 4.0\n",
        "\n",
        "E. 2"
      ],
      "metadata": {
        "id": "NCYFhCi1SaHO"
      }
    },
    {
      "cell_type": "markdown",
      "source": [
        "Que valor es impreso al ejecutarse el siguiente codigo?\n",
        "\n",
        "```\n",
        "print(18.0 // 4)\n",
        "```\n",
        "\n",
        "A. 4.5\n",
        "\n",
        "B. 5\n",
        "\n",
        "C. 4\n",
        "\n",
        "D. 4.0\n",
        "\n",
        "E. 2"
      ],
      "metadata": {
        "id": "jBFhYFThSuCG"
      }
    },
    {
      "cell_type": "markdown",
      "source": [
        "Que valor es impreso cuando es ejecutado?\n",
        "\n",
        "```\n",
        "print(18 % 4)\n",
        "```\n",
        "\n",
        "A. 4.25\n",
        "\n",
        "B. 5\n",
        "\n",
        "C. 4\n",
        "\n",
        "D. 2"
      ],
      "metadata": {
        "id": "A2z5d1OjTFO6"
      }
    },
    {
      "cell_type": "markdown",
      "source": [
        "Cual es el resultado?\n",
        "\n",
        "```\n",
        "resultado = 6 + 2 * 5 - ( 3 ** 2 ) / 4 * 7\n",
        "```"
      ],
      "metadata": {
        "id": "AytMarAuToo8"
      }
    }
  ]
}