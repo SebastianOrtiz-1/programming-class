{
  "nbformat": 4,
  "nbformat_minor": 0,
  "metadata": {
    "colab": {
      "provenance": [],
      "authorship_tag": "ABX9TyMIrWibVVEeYXpfYjSLHk/M",
      "include_colab_link": true
    },
    "kernelspec": {
      "name": "python3",
      "display_name": "Python 3"
    },
    "language_info": {
      "name": "python"
    }
  },
  "cells": [
    {
      "cell_type": "markdown",
      "metadata": {
        "id": "view-in-github",
        "colab_type": "text"
      },
      "source": [
        "<a href=\"https://colab.research.google.com/github/SebastianOrtiz-1/programming-class/blob/main/Ejemplos_de_proyectos_con_python.ipynb\" target=\"_parent\"><img src=\"https://colab.research.google.com/assets/colab-badge.svg\" alt=\"Open In Colab\"/></a>"
      ]
    },
    {
      "cell_type": "markdown",
      "source": [
        "##Juego de adivinanzas"
      ],
      "metadata": {
        "id": "yToLX2vbTYqR"
      }
    },
    {
      "cell_type": "code",
      "source": [
        "import random\n",
        "\n",
        "def adivina_el_numero():\n",
        "    numero_secreto = random.randint(1, 100)\n",
        "    intentos = 0\n",
        "\n",
        "    print(\"Bienvenido al Juego de Adivinanzas!\")\n",
        "    print(\"Estoy pensando en un número entre 1 y 100.\")\n",
        "\n",
        "    while True:\n",
        "        intento = int(input(\"Introduce tu adivinanza: \"))\n",
        "        intentos += 1\n",
        "\n",
        "        if intento < numero_secreto:\n",
        "            print(\"Muy bajo. Intenta de nuevo.\")\n",
        "        elif intento > numero_secreto:\n",
        "            print(\"Muy alto. Intenta de nuevo.\")\n",
        "        else:\n",
        "            print(f\"¡Felicidades! Has adivinado el número {numero_secreto} correctamente en {intentos} intentos.\")\n",
        "            break\n",
        "\n",
        "adivina_el_numero()\n"
      ],
      "metadata": {
        "id": "h3AkjyJuTYPo"
      },
      "execution_count": null,
      "outputs": []
    },
    {
      "cell_type": "markdown",
      "source": [
        "##Generador de Contraseñas"
      ],
      "metadata": {
        "id": "6UHOSdVtTxbe"
      }
    },
    {
      "cell_type": "code",
      "source": [
        "import random\n",
        "import string\n",
        "\n",
        "def generar_contrasena(longitud, con_numeros=True, con_simbolos=True):\n",
        "    caracteres = string.ascii_letters # Incluye letras mayúsculas y minúsculas\n",
        "    if con_numeros:\n",
        "        caracteres += string.digits\n",
        "    if con_simbolos:\n",
        "        caracteres += string.punctuation\n",
        "    contrasena = ''.join(random.choice(caracteres) for i in range(longitud))\n",
        "    return contrasena\n",
        "\n",
        "longitud = int(input(\"¿Cuál es la longitud deseada para la contraseña? \"))\n",
        "contrasena = generar_contrasena(longitud)\n",
        "print(f\"Tu nueva contraseña es: {contrasena}\")\n"
      ],
      "metadata": {
        "id": "N7filk-vTxGN"
      },
      "execution_count": null,
      "outputs": []
    },
    {
      "cell_type": "markdown",
      "source": [
        "##Aplicación de Clima en Consola\n"
      ],
      "metadata": {
        "id": "sYk4lHVPUf5S"
      }
    },
    {
      "cell_type": "code",
      "source": [
        "import requests\n",
        "\n",
        "def obtener_clima(ciudad, api_key):\n",
        "    url = f\"https://api.openweathermap.org/data/2.5/weather?q={ciudad}&appid={api_key}&units=metric&lang=es\"\n",
        "    respuesta = requests.get(url)\n",
        "    if respuesta.status_code == 200:\n",
        "        datos = respuesta.json()\n",
        "        temperatura = datos['main']['temp']\n",
        "        descripcion = datos['weather'][0]['description']\n",
        "        return temperatura, descripcion\n",
        "    else:\n",
        "        return None, None\n",
        "\n",
        "api_key = 'ba597d9f28d1af89264a13f134ad53f1'\n",
        "ciudad = input(\"Ingresa el nombre de tu ciudad: \")\n",
        "\n",
        "temperatura, descripcion = obtener_clima(ciudad, api_key  )\n",
        "if temperatura is not None:\n",
        "    print(f\"La temperatura en {ciudad} es de {temperatura}°C con {descripcion}.\")\n",
        "else:\n",
        "    print(\"No se pudo obtener el clima para esa ciudad.\")\n"
      ],
      "metadata": {
        "id": "sRNjov0JVhQc"
      },
      "execution_count": null,
      "outputs": []
    },
    {
      "cell_type": "markdown",
      "source": [
        "###Visualización de Datos"
      ],
      "metadata": {
        "id": "VkMmy35GgGA9"
      }
    },
    {
      "cell_type": "code",
      "source": [
        "import pandas as pd\n",
        "import matplotlib.pyplot as plt\n",
        "\n",
        "# Cargar datos desde un archivo CSV\n",
        "datos = pd.read_csv('https://people.sc.fsu.edu/~jburkardt/data/csv/homes.csv')\n",
        "\n",
        "print(datos.columns)\n",
        "datos.plot()\n",
        "plt.show()\n"
      ],
      "metadata": {
        "id": "2dOLDg2WgDQL"
      },
      "execution_count": null,
      "outputs": []
    },
    {
      "cell_type": "markdown",
      "source": [
        "##Blog Personal con Flask"
      ],
      "metadata": {
        "id": "zurm_QO1k295"
      }
    },
    {
      "cell_type": "code",
      "source": [
        "from flask import Flask, render_template\n",
        "\n",
        "app = Flask(__name__)\n",
        "\n",
        "@app.route('/')\n",
        "def home():\n",
        "    return render_template('home.html', titulo='Mi Blog Personal')\n",
        "\n",
        "@app.route('/about')\n",
        "def about():\n",
        "    return render_template('about.html', titulo='Acerca de')\n",
        "\n",
        "if __name__ == '__main__':\n",
        "    app.run(debug=True)\n"
      ],
      "metadata": {
        "id": "1od1b42Mk7Fi"
      },
      "execution_count": null,
      "outputs": []
    }
  ]
}